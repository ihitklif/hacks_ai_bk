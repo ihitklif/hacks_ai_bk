{
 "cells": [
  {
   "cell_type": "code",
   "execution_count": 56,
   "id": "92d55f21",
   "metadata": {},
   "outputs": [],
   "source": [
    "import pandas as pd\n",
    "import numpy as np\n",
    "import datetime\n",
    "\n",
    "import collections\n",
    "from itertools import chain\n",
    "\n",
    "from tqdm import tqdm\n",
    "\n",
    "from sklearn.model_selection import train_test_split\n",
    "from catboost import CatBoostClassifier, Pool\n",
    "from catboost.utils import eval_metric\n",
    "\n",
    "from sklearn.metrics import roc_auc_score\n",
    "from sklearn.metrics import f1_score"
   ]
  },
  {
   "cell_type": "markdown",
   "id": "0952fe07-632c-4fe3-ae32-b043eb16ee4f",
   "metadata": {},
   "source": [
    "# Классы и функции"
   ]
  },
  {
   "cell_type": "markdown",
   "id": "d6752d7f-21fd-4da2-aa6a-fc867bca8389",
   "metadata": {},
   "source": [
    "### Создание фичей по заказам и их агрегация"
   ]
  },
  {
   "cell_type": "code",
   "execution_count": 57,
   "id": "685d509e",
   "metadata": {},
   "outputs": [],
   "source": [
    "class ComponentReducer:\n",
    "    \n",
    "    def __init__(self):\n",
    "        from collections import defaultdict\n",
    "        self.last_customer_id = None\n",
    "        self.last_order_id = None\n",
    "        self.prev_ts = None\n",
    "        self.possible_keys = defaultdict(list)\n",
    "        self.arr_revenue = []\n",
    "        self.arr_squares = []\n",
    "        self.arr_deltas = []\n",
    "        self.arr_of_arr_dishes = []\n",
    "        self.cnt = 0\n",
    "        self.items = dict()\n",
    "\n",
    "    def print_result(self):\n",
    "        final_features = [self.last_customer_id, self.last_order_id]\n",
    "\n",
    "        for k in range(4, 1, -1):\n",
    "            final_features.append(np.mean(self.arr_revenue[-k:]))\n",
    "        \n",
    "        try:\n",
    "            final_features.append(self.arr_revenue[-1] / self.arr_revenue[-2])\n",
    "        except:\n",
    "            final_features.append(-1)\n",
    "            \n",
    "        for k in range(4, 1, -1):\n",
    "            final_features.append(np.mean(self.arr_squares[-k:]))\n",
    "\n",
    "        for key in ['drinks', 'burgers', 'snack', 'offer', 'chicken', 'bucket', 'count']:\n",
    "            els = self.possible_keys[key]\n",
    "            for k in range(4, 1, -1):\n",
    "                final_features.append(np.mean(els[-k:]))\n",
    "            try:\n",
    "                final_features.append(els[-1] / els[-2])\n",
    "            except:\n",
    "                final_features.append(-1)\n",
    "            \n",
    "        final_features.append(np.mean(self.arr_deltas[-3:]))\n",
    "        final_features.append(self.arr_deltas[-1])\n",
    "        \n",
    "        arr_1d_dishes = list(chain(*self.arr_of_arr_dishes))\n",
    "        arr_1d_weekday = list(chain(*[self.arr_of_arr_weekdays]))\n",
    "        mc = collections.Counter(arr_1d_dishes)\n",
    "        mc_weekdays = collections.Counter(arr_1d_weekday)\n",
    "        for i in range(2):\n",
    "            try:\n",
    "                final_features.append(mc.most_common()[i][0])\n",
    "                final_features.append(mc_weekdays.most_common()[i][0])\n",
    "            except:\n",
    "                final_features.append(None)\n",
    "\n",
    "        final_features.append(len(set(arr_1d_dishes)))\n",
    "        \n",
    "        \n",
    "        hour = self.items['start_ts'].hour\n",
    "        \n",
    "        final_features.append(hour)\n",
    "        \n",
    "        if (hour >= 6) and (hour < 12):\n",
    "            final_features.append('morning')\n",
    "        elif (hour >= 12) and (hour < 17):\n",
    "            final_features.append('morning')\n",
    "        elif (hour >= 17) and (hour < 22):\n",
    "            final_features.append('evening')\n",
    "        else:\n",
    "            final_features.append('night')\n",
    "        \n",
    "        weekday = self.items['start_ts'].weekday() + 1\n",
    "        \n",
    "        final_features.append(weekday)\n",
    "        \n",
    "        if weekday <= 5:\n",
    "            final_features.append('workday')\n",
    "        else:\n",
    "            final_features.append('weekend')\n",
    "                \n",
    "        for col in ['revenue', 'square', 'drinks', 'burgers', 'snack', 'offer', 'chicken', 'bucket']:\n",
    "            final_features.append(self.items[col])\n",
    "            \n",
    "        final_features.append(self.cnt)\n",
    "\n",
    "        return final_features\n",
    "\n",
    "    def reset(self):\n",
    "        self.last_customer_id = None\n",
    "        self.last_order_id = None\n",
    "        self.prev_ts = None\n",
    "        self.possible_keys.clear()\n",
    "        self.arr_revenue = []\n",
    "        self.arr_squares = []\n",
    "        self.arr_deltas = []\n",
    "        self.arr_of_arr_dishes = []\n",
    "        self.arr_of_arr_weekdays = []\n",
    "        self.cnt = 0\n",
    "        self.items = dict()\n",
    "\n",
    "\n",
    "    def get_item_dict(self, items):\n",
    "\n",
    "        d = {\n",
    "            'customer_id': items.loc['customer_id'],\n",
    "            'start_ts': items.loc['startdatetime'],\n",
    "            'revenue': items.loc['revenue'],\n",
    "            'square': items.loc['ownareaall_sqm'],\n",
    "            'drinks': items.loc['drinks'],\n",
    "            'burgers': items.loc['burgers'],\n",
    "            'snack': items.loc['snack'],\n",
    "            'offer': items.loc['offer'],\n",
    "            'chicken': items.loc['chicken'],\n",
    "            'bucket': items.loc['bucket'],\n",
    "            'count': items.loc['count'],\n",
    "            'order_id': items.loc['order_id'],\n",
    "            'dish_arr': items.loc['dish_name']\n",
    "        }\n",
    "        return d\n",
    "\n",
    "    def push_line(self, line):\n",
    "        from copy import deepcopy\n",
    "\n",
    "        res = None\n",
    "        items = self.get_item_dict(line)\n",
    "\n",
    "\n",
    "        order_id = items['order_id']\n",
    "        customer_id = items['customer_id']\n",
    "        unix_ts = items['start_ts']\n",
    "        \n",
    "        self.items = items\n",
    "\n",
    "        if self.last_customer_id is not None and self.last_customer_id != customer_id:\n",
    "            res = self.print_result()\n",
    "            self.reset()\n",
    "\n",
    "        if self.last_order_id is not None and self.last_order_id != order_id:\n",
    "            res = self.print_result()\n",
    "\n",
    "        self.arr_revenue.append(float(items['revenue']))\n",
    "        self.arr_squares.append(float(items['square']))\n",
    "        \n",
    "        for key in ['drinks', 'burgers', 'snack', 'offer', 'chicken', 'bucket', 'count']:\n",
    "            self.possible_keys[key].append(items[key])\n",
    "            \n",
    "        if self.prev_ts is not None:\n",
    "            self.arr_deltas.append((self.prev_ts - unix_ts).total_seconds())\n",
    "        else:\n",
    "            self.arr_deltas.append(-1)\n",
    "        \n",
    "        self.arr_of_arr_dishes.append(items['dish_arr'])\n",
    "        self.arr_of_arr_weekdays.append(items['start_ts'].weekday())\n",
    "\n",
    "        self.cnt += 1\n",
    "\n",
    "        self.last_customer_id = customer_id\n",
    "        self.last_order_id = order_id\n",
    "        self.prev_ts = unix_ts\n",
    "        \n",
    "        return res"
   ]
  },
  {
   "cell_type": "markdown",
   "id": "ec32e2a5-ee37-46a2-b8f9-38fccfe4dfd0",
   "metadata": {},
   "source": [
    "### Извлечение фичей из названий продуктов"
   ]
  },
  {
   "cell_type": "code",
   "execution_count": 58,
   "id": "7f9bc8bf",
   "metadata": {},
   "outputs": [],
   "source": [
    "def make_features(df: pd.DataFrame, flg_train=True) -> pd.DataFrame:\n",
    "\n",
    "    if flg_train:\n",
    "        df_orders = df.drop_duplicates(subset=['customer_id', 'startdatetime']).sort_values(by=['customer_id', 'startdatetime']).reset_index(drop=True)\n",
    "        df_orders['next_startdatetime'] = df_orders.groupby(['customer_id'])['startdatetime'].shift(-1)\n",
    "        df_orders['days_delta'] = (df_orders['next_startdatetime'] - df_orders['startdatetime']).apply(lambda row: row.total_seconds() // (24*60*60))\n",
    "        df_orders['trg_days'] = df_orders.apply(lambda row: row.days_delta if str(row.days_delta) != 'nan' else row.date_diff_post, axis=1)\n",
    "        df_orders['trg_flg'] = df_orders['trg_days'].apply(lambda row: 1 if row <= 60 else 0)\n",
    "        df_orders[['customer_id', 'startdatetime', 'trg_days', 'trg_flg']].to_pickle('new_trg.pkl')\n",
    "\n",
    "    df['drinks'] = df.dish_name.str.lower().str.contains(r'0[,.]|кофе|латте|американо|капучино|липтон|шейк|балтика|туборг|какао|кола|лимонад|чай|сок|адреналин|миринда|эвервесс|байкал|дюшес|мандарин|севен')\n",
    "    df['burgers'] = df.dish_name.str.lower().str.contains(r'воппер|ангус|гранд|чизбургер|гамбургер')\n",
    "    df['snack'] = df.dish_name.str.lower().str.contains(r'шт|фри')\n",
    "    df['1rub'] = df.dish_name.str.lower().str.contains(r'1rub')\n",
    "    df['chicken'] = df.dish_name.str.lower().str.contains(r'куриц|чикен')\n",
    "    df['bucket'] = df.dish_name.str.lower().str.contains(r'букет')\n",
    "    df['dessert'] = df.dish_name.str.lower().str.contains(r'пирожок|рожок|маффин')\n",
    "    df['pivo'] = df.dish_name.str.lower().str.contains(r'туборг|балтика|пиво')\n",
    "    df['sok'] = df.dish_name.str.lower().str.contains(r'сок|а4')\n",
    "    df['toilet'] = df.format_name.str.lower().str.contains(r'без туалета')\n",
    "    df['foodcourt'] = df.format_name.str.lower().str.contains(r'фудкорт')\n",
    "    df['otdelno'] = df.format_name.str.lower().str.contains(r'отдельно стоящий')\n",
    "    df['count'] = 1\n",
    "    df['offer'] = df.revenue.apply(lambda x: True if x <= 19.98 else False)\n",
    "    df['offer'] = df['1rub'] + df['offer']\n",
    "    df = df.drop(columns=['1rub'])\n",
    "\n",
    "    return df"
   ]
  },
  {
   "cell_type": "markdown",
   "id": "ebb8d616-acfb-4be6-9b93-27927a6c0e7e",
   "metadata": {},
   "source": [
    "# Работа с данными"
   ]
  },
  {
   "cell_type": "code",
   "execution_count": 59,
   "id": "8e2740e5",
   "metadata": {},
   "outputs": [],
   "source": [
    "df = pd.read_parquet(\"train.parquet\")\n",
    "# df = pd.read_parquet('train_dataset_hackaton2023_train.parquet')\n",
    "\n",
    "df = make_features(pd.concat([df.head(1000), df.tail(1000)]))"
   ]
  },
  {
   "cell_type": "markdown",
   "id": "f775a53b-1675-42cf-b499-defce1d4ca15",
   "metadata": {},
   "source": [
    "### Группировка по заказам"
   ]
  },
  {
   "cell_type": "code",
   "execution_count": 60,
   "id": "6d8258f8",
   "metadata": {},
   "outputs": [],
   "source": [
    "df_check = df[\n",
    "    ['customer_id', 'revenue', 'startdatetime', 'ownareaall_sqm', 'drinks',\n",
    "     'burgers', 'snack', 'offer', 'chicken', 'bucket', 'dessert', 'pivo', \n",
    "     'sok', 'toilet', 'foodcourt', 'otdelno', 'count', 'dish_name']\n",
    "].groupby(['customer_id', 'startdatetime']) \\\n",
    "    .agg({\n",
    "    'revenue': 'sum',\n",
    "    'ownareaall_sqm':'mean',\n",
    "    'drinks':'sum',\n",
    "    'burgers':'sum',\n",
    "    'snack':'sum',\n",
    "    'offer':'sum',\n",
    "    'chicken':'sum',\n",
    "    'bucket':'sum',\n",
    "    'dessert':'sum',\n",
    "    'pivo':'sum',\n",
    "    'sok':'sum',\n",
    "    'toilet':'max',\n",
    "    'foodcourt':'max',\n",
    "    'otdelno':'max',\n",
    "    'count':'sum',\n",
    "    'dish_name': list\n",
    "}).reset_index()"
   ]
  },
  {
   "cell_type": "code",
   "execution_count": 61,
   "id": "6647b21a",
   "metadata": {},
   "outputs": [],
   "source": [
    "df_sample = df_check.sort_values(by=['customer_id', 'startdatetime']).reset_index()\n",
    "df_sample['order_id'] = df_sample['customer_id'].astype(str) + '_' + df_sample['startdatetime'].astype(str)"
   ]
  },
  {
   "cell_type": "code",
   "execution_count": 62,
   "id": "5f2ff1da",
   "metadata": {},
   "outputs": [
    {
     "data": {
      "text/plain": [
       "(634, 20)"
      ]
     },
     "execution_count": 62,
     "metadata": {},
     "output_type": "execute_result"
    }
   ],
   "source": [
    "df_sample.shape"
   ]
  },
  {
   "cell_type": "code",
   "execution_count": null,
   "id": "661270ff",
   "metadata": {},
   "outputs": [],
   "source": [
    "# df_sample.to_pickle('feats.pkl')"
   ]
  },
  {
   "cell_type": "markdown",
   "id": "3caf72b1",
   "metadata": {},
   "source": [
    "## Reducer"
   ]
  },
  {
   "cell_type": "code",
   "execution_count": null,
   "id": "4e9f7405",
   "metadata": {},
   "outputs": [],
   "source": [
    "# df_sample = pd.read_pickle('feats.pkl')"
   ]
  },
  {
   "cell_type": "markdown",
   "id": "3d2b6e54-adc6-4552-9a87-7ee2f2064cc2",
   "metadata": {},
   "source": [
    "### Создание обучающей выборки"
   ]
  },
  {
   "cell_type": "code",
   "execution_count": 63,
   "id": "5b749e05",
   "metadata": {},
   "outputs": [
    {
     "name": "stderr",
     "output_type": "stream",
     "text": [
      "634it [00:00, 1557.78it/s]\n"
     ]
    }
   ],
   "source": [
    "reducer = ComponentReducer()\n",
    "reducer.reset()\n",
    "\n",
    "out_arr = []\n",
    "cols = ['customer_id', 'startdatetime', 'revenue', 'ownareaall_sqm', 'drinks',\n",
    "        'burgers', 'snack', 'offer', 'chicken', 'bucket', 'count', 'order_id', 'dish_name']\n",
    "\n",
    "for index, row in tqdm(df_sample[cols].iterrows()):\n",
    "    res = reducer.push_line(row)\n",
    "    if res is not None:\n",
    "        out_arr.append(res)\n",
    "\n",
    "res = reducer.print_result()\n",
    "if res is not None:\n",
    "    out_arr.append(res)"
   ]
  },
  {
   "cell_type": "code",
   "execution_count": 64,
   "id": "b7464c97",
   "metadata": {},
   "outputs": [],
   "source": [
    "df_train_new = pd.DataFrame(out_arr, columns=[\n",
    "    'customer_id', 'order_id',\n",
    "    'mean_revenue_last4', 'mean_revenue_last3', 'mean_revenue_last2', 'rat_revenue',\n",
    "    'mean_squares_last4', 'mean_squares_last3', 'mean_squares_last2',\n",
    "    'mean_drinks_last4', 'mean_drinks_last3', 'mean_drinks_last2', 'rat_drinks',\n",
    "    'mean_burgers_last4', 'mean_burgers_last3', 'mean_burgers_last2', 'rat_burgers',\n",
    "    'mean_snack_last4', 'mean_snack_last3', 'mean_snack_last2', 'rat_snack',\n",
    "    'mean_offer_last4', 'mean_offer_last3', 'mean_offer_last2', 'rat_offer',\n",
    "    'mean_chicken_last4', 'mean_chicken_last3', 'mean_chicken_last2', 'rat_chicken',\n",
    "    'mean_bucket_last4', 'mean_bucket_last3', 'mean_bucket_last2', 'rat_bucket',\n",
    "    'mean_count_last4', 'mean_count_last3', 'mean_count_last2', 'rat_count',\n",
    "    'gap_last3', 'last_gap',\n",
    "    'mc1_dish', 'mc1_weekday', 'mc2_dish', 'mc2_weekday',\n",
    "    'nunique_dishes', 'cat_hour', 'cat_gr_hour', 'cat_weekday', 'cat_gr_weekday',\n",
    "    'revenue_curr', 'square_curr', 'drinks_curr', 'burgers_curr', 'snack_curr', 'offer_curr', \n",
    "    'chicken_curr', 'bucket_curr',     \n",
    "    'cnt'\n",
    "])"
   ]
  },
  {
   "cell_type": "code",
   "execution_count": 65,
   "id": "089ca957",
   "metadata": {},
   "outputs": [],
   "source": [
    "df_orders = pd.read_pickle('new_trg.pkl')\n",
    "\n",
    "df_orders['order_id'] = df_orders['customer_id'].astype(str) + '_' + df_orders['startdatetime'].astype(str)"
   ]
  },
  {
   "cell_type": "code",
   "execution_count": 66,
   "id": "28b15006",
   "metadata": {},
   "outputs": [],
   "source": [
    "df_long = df_train_new.merge(df_orders[['order_id', 'trg_days', 'trg_flg']], on=['order_id']).copy()\n",
    "# df_long['trg_flg'].value_counts(1)"
   ]
  },
  {
   "cell_type": "code",
   "execution_count": 67,
   "id": "433a8cef",
   "metadata": {},
   "outputs": [],
   "source": [
    "df_long['mc1_dish'] = df_long['mc1_dish'].fillna('-1')\n",
    "df_long['mc2_dish'] = df_long['mc2_dish'].fillna('-1')\n",
    "# df_long['mc1_weekday'] = df_long['mc1_weekday'].fillna('-1')\n",
    "# df_long['mc2_weekday'] = df_long['mc2_weekday'].fillna('-1')"
   ]
  },
  {
   "cell_type": "code",
   "execution_count": 68,
   "id": "f9aa0924",
   "metadata": {},
   "outputs": [],
   "source": [
    "df_last = df_long.sort_values(\n",
    "    by=['customer_id', 'cnt'], ascending=[True, False]\n",
    ").drop_duplicates(subset=['customer_id'])"
   ]
  },
  {
   "cell_type": "code",
   "execution_count": 69,
   "id": "16ce5c8b",
   "metadata": {},
   "outputs": [],
   "source": [
    "df_last['ts'] = df_last['order_id'].apply(lambda row: row.split('_')[1])"
   ]
  },
  {
   "cell_type": "code",
   "execution_count": 71,
   "id": "f0d9b412",
   "metadata": {},
   "outputs": [],
   "source": [
    "df_train_all = df_last[df_last['ts'] <= '2023-06-20'].copy()\n",
    "df_oot = df_last[df_last['ts'] > '2023-06-20'].copy()"
   ]
  },
  {
   "cell_type": "code",
   "execution_count": 72,
   "id": "4d8b5fcf",
   "metadata": {},
   "outputs": [],
   "source": [
    "cols = [\n",
    "    'mean_revenue_last4', 'mean_revenue_last3', 'mean_revenue_last2', 'rat_revenue',\n",
    "    'mean_squares_last4', 'mean_squares_last3', 'mean_squares_last2',\n",
    "    'mean_drinks_last4', 'mean_drinks_last3', 'mean_drinks_last2', 'rat_drinks',\n",
    "    'mean_burgers_last4', 'mean_burgers_last3', 'mean_burgers_last2', 'rat_burgers',\n",
    "    'mean_snack_last4', 'mean_snack_last3', 'mean_snack_last2', 'rat_snack',\n",
    "    'mean_offer_last4', 'mean_offer_last3', 'mean_offer_last2', 'rat_offer',\n",
    "    'mean_chicken_last4', 'mean_chicken_last3', 'mean_chicken_last2', 'rat_chicken',\n",
    "    'mean_bucket_last4', 'mean_bucket_last3', 'mean_bucket_last2', 'rat_bucket',\n",
    "    'mean_count_last4', 'mean_count_last3', 'mean_count_last2', 'rat_count',\n",
    "    'gap_last3', 'last_gap',\n",
    "    'mc1_dish', 'mc1_weekday', 'mc2_dish', 'mc2_weekday',\n",
    "    \n",
    "    'nunique_dishes', 'cat_hour', 'cat_gr_hour', 'cat_weekday', 'cat_gr_weekday',\n",
    "    \n",
    "    'revenue_curr', 'square_curr', 'drinks_curr', 'burgers_curr', 'snack_curr', 'offer_curr', \n",
    "    'chicken_curr', 'bucket_curr',  \n",
    "]\n",
    "target_col = 'trg_flg'\n",
    "\n",
    "str_cols = ['mc1_dish', 'mc2_dish', 'customer_id', 'cat_hour', 'cat_gr_hour', 'cat_weekday', 'cat_gr_weekday', 'mc1_weekday', 'mc2_weekday']\n",
    "\n",
    "X_train, X_test, y_train, y_test = train_test_split(\n",
    "    df_train_all[cols],\n",
    "    df_train_all[target_col].copy(),\n",
    "    test_size=0.2,\n",
    "    random_state=23\n",
    ")"
   ]
  },
  {
   "cell_type": "code",
   "execution_count": 73,
   "id": "51427df5",
   "metadata": {},
   "outputs": [
    {
     "data": {
      "text/plain": [
       "1    19\n",
       "0     2\n",
       "Name: trg_flg, dtype: int64"
      ]
     },
     "execution_count": 73,
     "metadata": {},
     "output_type": "execute_result"
    }
   ],
   "source": [
    "y_train.value_counts()"
   ]
  },
  {
   "cell_type": "code",
   "execution_count": 74,
   "id": "2e383326",
   "metadata": {},
   "outputs": [],
   "source": [
    "cols = ['nunique_dishes',\n",
    "        'gap_last3',\n",
    "        'last_gap',\n",
    "        'mean_count_last4',\n",
    "        'mean_drinks_last4',\n",
    "        'mean_revenue_last4',\n",
    "        'mc1_dish', \n",
    "        'mean_burgers_last4',\n",
    "        'mc2_dish', \n",
    "        'mean_chicken_last4',\n",
    "        'rat_revenue',\n",
    "        'mean_snack_last4',\n",
    "        'mean_offer_last4',\n",
    "        'square_curr',\n",
    "        'mean_revenue_last2',\n",
    "        'revenue_curr']"
   ]
  },
  {
   "cell_type": "markdown",
   "id": "00dd7974-b27a-4fe8-aa0b-23dab1543817",
   "metadata": {},
   "source": [
    "### tuning"
   ]
  },
  {
   "cell_type": "code",
   "execution_count": null,
   "id": "f6aff506-e2d8-48d7-b9ae-5c9228b7fd53",
   "metadata": {},
   "outputs": [],
   "source": [
    "# grid = {\n",
    "#     'learning_rate': list(np.arange(0.1, 0.25, 0.05)),\n",
    "#     'depth':[3, 6, 9],\n",
    "#     'l2_leaf_reg': [2, 3, 4],\n",
    "#     'boosting_type': ['Ordered', 'Plain']\n",
    "# }\n",
    "\n",
    "\n",
    "# grid_search_model = CatBoostClassifier(\n",
    "#         iterations = 300,\n",
    "#         auto_class_weights='Balanced',     \n",
    "#         has_time = True,\n",
    "#         cat_features = list(set(str_cols) & set(cols)),\n",
    "#         task_type = 'CPU',\n",
    "#         eval_metric = \"F1\",\n",
    "#         random_state = 23,\n",
    "#         silent=True)\n",
    "\n",
    "# grid_search_result = grid_search_model.grid_search(grid, X_train[cols], y_train, verbose=20)"
   ]
  },
  {
   "cell_type": "code",
   "execution_count": 76,
   "id": "f9243449-9f17-4cc1-a7fa-68f86853b5c6",
   "metadata": {},
   "outputs": [
    {
     "data": {
      "text/plain": [
       "<catboost.core.CatBoostRegressor at 0x7f77bb291510>"
      ]
     },
     "execution_count": 76,
     "metadata": {},
     "output_type": "execute_result"
    }
   ],
   "source": [
    "from catboost.utils import eval_metric\n",
    "from catboost import CatBoostRegressor\n",
    "\n",
    "df_train_rmse = df_train_all[~df_train_all['trg_days'].isna()].copy()\n",
    "\n",
    "target_col_rmse = 'trg_days'\n",
    "\n",
    "X_train_r, X_test_r, y_train_r, y_test_r = train_test_split(\n",
    "    df_train_rmse[cols],\n",
    "    df_train_rmse[target_col_rmse].copy(),\n",
    "    test_size=0.2,\n",
    "    random_state=23\n",
    ")\n",
    "\n",
    "cb_rmse = CatBoostRegressor(\n",
    "    iterations = 10, \n",
    "    has_time = True, \n",
    "    cat_features = list(set(str_cols) & set(cols)),\n",
    "    task_type = 'CPU', loss_function='RMSE', \n",
    "    random_state = 23, silent=True\n",
    ")\n",
    "\n",
    "cb_rmse.fit(X_train_r[cols], y_train_r, eval_set=(X_test_r[cols], y_test_r))"
   ]
  },
  {
   "cell_type": "code",
   "execution_count": 75,
   "id": "95a4d3e8",
   "metadata": {
    "scrolled": true
   },
   "outputs": [
    {
     "data": {
      "text/plain": [
       "<catboost.core.CatBoostClassifier at 0x7f77bb275a10>"
      ]
     },
     "execution_count": 75,
     "metadata": {},
     "output_type": "execute_result"
    }
   ],
   "source": [
    "cls = CatBoostClassifier(\n",
    "    iterations = 10,\n",
    "    auto_class_weights='Balanced',\n",
    "    has_time = True,\n",
    "    cat_features = list(set(str_cols) & set(cols)),\n",
    "    task_type = 'CPU',\n",
    "    eval_metric = \"F1\",\n",
    "    random_state = 23,\n",
    "    silent=True)\n",
    "\n",
    "cls.fit(X_train[cols], y_train, eval_set=(X_test[cols], y_test))"
   ]
  },
  {
   "cell_type": "code",
   "execution_count": 77,
   "id": "5eafea44",
   "metadata": {},
   "outputs": [
    {
     "data": {
      "text/html": [
       "<div>\n",
       "<style scoped>\n",
       "    .dataframe tbody tr th:only-of-type {\n",
       "        vertical-align: middle;\n",
       "    }\n",
       "\n",
       "    .dataframe tbody tr th {\n",
       "        vertical-align: top;\n",
       "    }\n",
       "\n",
       "    .dataframe thead th {\n",
       "        text-align: right;\n",
       "    }\n",
       "</style>\n",
       "<table border=\"1\" class=\"dataframe\">\n",
       "  <thead>\n",
       "    <tr style=\"text-align: right;\">\n",
       "      <th></th>\n",
       "      <th>feature_importance</th>\n",
       "      <th>feature_names</th>\n",
       "    </tr>\n",
       "  </thead>\n",
       "  <tbody>\n",
       "    <tr>\n",
       "      <th>0</th>\n",
       "      <td>22.257106</td>\n",
       "      <td>mean_count_last4</td>\n",
       "    </tr>\n",
       "    <tr>\n",
       "      <th>1</th>\n",
       "      <td>17.004815</td>\n",
       "      <td>mean_burgers_last4</td>\n",
       "    </tr>\n",
       "    <tr>\n",
       "      <th>2</th>\n",
       "      <td>11.646045</td>\n",
       "      <td>mean_snack_last4</td>\n",
       "    </tr>\n",
       "    <tr>\n",
       "      <th>3</th>\n",
       "      <td>9.907872</td>\n",
       "      <td>last_gap</td>\n",
       "    </tr>\n",
       "    <tr>\n",
       "      <th>4</th>\n",
       "      <td>8.728962</td>\n",
       "      <td>revenue_curr</td>\n",
       "    </tr>\n",
       "    <tr>\n",
       "      <th>5</th>\n",
       "      <td>8.374432</td>\n",
       "      <td>mean_chicken_last4</td>\n",
       "    </tr>\n",
       "    <tr>\n",
       "      <th>6</th>\n",
       "      <td>7.259341</td>\n",
       "      <td>mean_revenue_last2</td>\n",
       "    </tr>\n",
       "    <tr>\n",
       "      <th>7</th>\n",
       "      <td>5.415105</td>\n",
       "      <td>square_curr</td>\n",
       "    </tr>\n",
       "    <tr>\n",
       "      <th>8</th>\n",
       "      <td>4.577969</td>\n",
       "      <td>mean_revenue_last4</td>\n",
       "    </tr>\n",
       "    <tr>\n",
       "      <th>9</th>\n",
       "      <td>3.071457</td>\n",
       "      <td>nunique_dishes</td>\n",
       "    </tr>\n",
       "    <tr>\n",
       "      <th>10</th>\n",
       "      <td>1.158397</td>\n",
       "      <td>mean_drinks_last4</td>\n",
       "    </tr>\n",
       "    <tr>\n",
       "      <th>11</th>\n",
       "      <td>0.422183</td>\n",
       "      <td>mean_offer_last4</td>\n",
       "    </tr>\n",
       "    <tr>\n",
       "      <th>12</th>\n",
       "      <td>0.104771</td>\n",
       "      <td>gap_last3</td>\n",
       "    </tr>\n",
       "    <tr>\n",
       "      <th>13</th>\n",
       "      <td>0.071546</td>\n",
       "      <td>rat_revenue</td>\n",
       "    </tr>\n",
       "    <tr>\n",
       "      <th>14</th>\n",
       "      <td>0.000000</td>\n",
       "      <td>mc1_dish</td>\n",
       "    </tr>\n",
       "    <tr>\n",
       "      <th>15</th>\n",
       "      <td>0.000000</td>\n",
       "      <td>mc2_dish</td>\n",
       "    </tr>\n",
       "  </tbody>\n",
       "</table>\n",
       "</div>"
      ],
      "text/plain": [
       "    feature_importance       feature_names\n",
       "0            22.257106    mean_count_last4\n",
       "1            17.004815  mean_burgers_last4\n",
       "2            11.646045    mean_snack_last4\n",
       "3             9.907872            last_gap\n",
       "4             8.728962        revenue_curr\n",
       "5             8.374432  mean_chicken_last4\n",
       "6             7.259341  mean_revenue_last2\n",
       "7             5.415105         square_curr\n",
       "8             4.577969  mean_revenue_last4\n",
       "9             3.071457      nunique_dishes\n",
       "10            1.158397   mean_drinks_last4\n",
       "11            0.422183    mean_offer_last4\n",
       "12            0.104771           gap_last3\n",
       "13            0.071546         rat_revenue\n",
       "14            0.000000            mc1_dish\n",
       "15            0.000000            mc2_dish"
      ]
     },
     "execution_count": 77,
     "metadata": {},
     "output_type": "execute_result"
    }
   ],
   "source": [
    "cb_imp = pd.DataFrame(\n",
    "    {'feature_importance': cls.feature_importances_,\n",
    "     'feature_names': cls.feature_names_}\n",
    ").sort_values(by=['feature_importance'], ascending=False).reset_index(drop=True)\n",
    "\n",
    "cb_imp"
   ]
  },
  {
   "cell_type": "code",
   "execution_count": 78,
   "id": "6c1246bf-2f68-4d75-9824-fd5173b8f666",
   "metadata": {},
   "outputs": [],
   "source": [
    "import shap\n",
    "explainer = shap.TreeExplainer(cls)\n",
    "shap_values = explainer(X_train[cols], y_train)"
   ]
  },
  {
   "cell_type": "code",
   "execution_count": 79,
   "id": "07e41955-fb5f-4137-805d-ae006e219611",
   "metadata": {},
   "outputs": [
    {
     "data": {
      "image/png": "[encoded data removed]",
      "text/plain": [
       "<Figure size 800x550 with 2 Axes>"
      ]
     },
     "metadata": {},
     "output_type": "display_data"
    }
   ],
   "source": [
    "shap.plots.beeswarm(shap_values)"
   ]
  },
  {
   "cell_type": "markdown",
   "id": "b19c0e87-f2f2-4f82-9046-cb019d75699f",
   "metadata": {},
   "source": [
    "### Метрики"
   ]
  },
  {
   "cell_type": "code",
   "execution_count": null,
   "id": "e0717945",
   "metadata": {},
   "outputs": [],
   "source": [
    "for _df, _trg, nm in zip(\n",
    "        [X_train, X_test, df_oot[cols]], \n",
    "        [y_train, y_test, df_oot[target_col]], \n",
    "        ['train', 'test', 'oot']):\n",
    "    \n",
    "    predict = cls.predict_proba(_df[cols])[:, 1]\n",
    "    pred = cls.predict(_df[cols])\n",
    "    auc = roc_auc_score(_trg, predict)\n",
    "    f1_macro = f1_score(_trg, pred, average='macro')\n",
    "    f1_weighted = f1_score(_trg, pred, average='weighted')\n",
    "\n",
    "    print(f'AUC of {nm: <6}: {auc:.3f}')\n",
    "    print(f'F1 macro of {nm: <6}: {f1_macro:.3f}')\n",
    "    print(f'F1 weighted of {nm: <6}: {f1_weighted:.3f} \\n')"
   ]
  },
  {
   "cell_type": "markdown",
   "id": "73c2ba9b",
   "metadata": {},
   "source": [
    "## Test part"
   ]
  },
  {
   "cell_type": "code",
   "execution_count": null,
   "id": "ef45819b",
   "metadata": {},
   "outputs": [],
   "source": [
    "df_test = pd.read_parquet('hackaton2023_test.gzip')"
   ]
  },
  {
   "cell_type": "code",
   "execution_count": null,
   "id": "aeb1929a",
   "metadata": {},
   "outputs": [],
   "source": [
    "df_test = make_features(df_test, False)"
   ]
  },
  {
   "cell_type": "code",
   "execution_count": null,
   "id": "258f6fec",
   "metadata": {},
   "outputs": [],
   "source": [
    "df_check = df_test[\n",
    "    ['customer_id', 'revenue', 'startdatetime', 'ownareaall_sqm', 'drinks',\n",
    "     'burgers', 'snack', 'offer', 'chicken', 'bucket', 'dessert', 'pivo', 'sok', 'toilet', 'foodcourt', 'otdelno', 'count', 'dish_name']\n",
    "].groupby(['customer_id', 'startdatetime']) \\\n",
    "    .agg({\n",
    "    'revenue': 'sum',\n",
    "    'ownareaall_sqm':'mean',\n",
    "    'drinks':'sum',\n",
    "    'burgers':'sum',\n",
    "    'snack':'sum',\n",
    "    'offer':'sum',\n",
    "    'chicken':'sum',\n",
    "    'bucket':'sum',\n",
    "    'dessert':'sum',\n",
    "    'pivo':'sum',\n",
    "    'sok':'sum',\n",
    "    'toilet':'max',\n",
    "    'foodcourt':'max',\n",
    "    'otdelno':'max',\n",
    "    'count':'sum',\n",
    "    'dish_name': list\n",
    "}).reset_index()"
   ]
  },
  {
   "cell_type": "code",
   "execution_count": null,
   "id": "bce4d40f",
   "metadata": {},
   "outputs": [],
   "source": [
    "df_check.shape"
   ]
  },
  {
   "cell_type": "code",
   "execution_count": null,
   "id": "37c97731",
   "metadata": {},
   "outputs": [],
   "source": [
    "df_sample = df_check.sort_values(by=['customer_id', 'startdatetime']).reset_index()\n",
    "df_sample['order_id'] = df_sample['customer_id'].astype(str) + '_' + df_sample['startdatetime'].astype(str)\n",
    "\n",
    "out_arr = []\n",
    "cols = ['customer_id', 'startdatetime', 'revenue', 'ownareaall_sqm', 'drinks',\n",
    "        'burgers', 'snack', 'offer', 'chicken', 'bucket', 'count', 'order_id', 'dish_name']\n",
    "\n",
    "for index, row in tqdm(df_sample[cols].iterrows()):\n",
    "    res = reducer.push_line(row)\n",
    "    if res is not None:\n",
    "        # print('\\t      '.join([str(x) for x in res]))\n",
    "        out_arr.append(res)\n",
    "\n",
    "res = reducer.print_result()\n",
    "if res is not None:\n",
    "    # print('\\t'.join([str(x) for x in res]))\n",
    "    out_arr.append(res)"
   ]
  },
  {
   "cell_type": "code",
   "execution_count": null,
   "id": "90a89f43",
   "metadata": {},
   "outputs": [],
   "source": [
    "df_test_new = pd.DataFrame(out_arr, columns=[\n",
    "    'customer_id', 'order_id',\n",
    "    'mean_revenue_last4', 'mean_revenue_last3', 'mean_revenue_last2', 'rat_revenue',\n",
    "    'mean_squares_last4', 'mean_squares_last3', 'mean_squares_last2',\n",
    "    'mean_drinks_last4', 'mean_drinks_last3', 'mean_drinks_last2', 'rat_drinks',\n",
    "    'mean_burgers_last4', 'mean_burgers_last3', 'mean_burgers_last2', 'rat_burgers',\n",
    "    'mean_snack_last4', 'mean_snack_last3', 'mean_snack_last2', 'rat_snack',\n",
    "    'mean_offer_last4', 'mean_offer_last3', 'mean_offer_last2', 'rat_offer',\n",
    "    'mean_chicken_last4', 'mean_chicken_last3', 'mean_chicken_last2', 'rat_chicken',\n",
    "    'mean_bucket_last4', 'mean_bucket_last3', 'mean_bucket_last2', 'rat_bucket',\n",
    "    'mean_count_last4', 'mean_count_last3', 'mean_count_last2', 'rat_count',\n",
    "    'gap_last3', 'last_gap',\n",
    "    'mc1_dish', 'mc2_dish',\n",
    "    \n",
    "    'nunique_dishes', 'cat_hour', 'cat_gr_hour', 'cat_weekday', 'cat_gr_weekday',\n",
    "    \n",
    "    'revenue_curr', 'square_curr', 'drinks_curr', 'burgers_curr', 'snack_curr', 'offer_curr', \n",
    "    'chicken_curr', 'bucket_curr',     \n",
    "    'cnt'\n",
    "])"
   ]
  },
  {
   "cell_type": "code",
   "execution_count": null,
   "id": "27d85713",
   "metadata": {},
   "outputs": [],
   "source": [
    "cols = [\n",
    "    'mean_revenue_last4', 'mean_revenue_last3', 'mean_revenue_last2', 'rat_revenue',\n",
    "    'mean_squares_last4', 'mean_squares_last3', 'mean_squares_last2',\n",
    "    'mean_drinks_last4', 'mean_drinks_last3', 'mean_drinks_last2', 'rat_drinks',\n",
    "    'mean_burgers_last4', 'mean_burgers_last3', 'mean_burgers_last2', 'rat_burgers',\n",
    "    'mean_snack_last4', 'mean_snack_last3', 'mean_snack_last2', 'rat_snack',\n",
    "    'mean_offer_last4', 'mean_offer_last3', 'mean_offer_last2', 'rat_offer',\n",
    "    'mean_chicken_last4', 'mean_chicken_last3', 'mean_chicken_last2', 'rat_chicken',\n",
    "    'mean_bucket_last4', 'mean_bucket_last3', 'mean_bucket_last2', 'rat_bucket',\n",
    "    'mean_count_last4', 'mean_count_last3', 'mean_count_last2', 'rat_count',\n",
    "    'gap_last3', 'last_gap',\n",
    "    'mc1_dish', 'mc2_dish',\n",
    "    \n",
    "    'nunique_dishes', 'cat_hour', 'cat_gr_hour', 'cat_weekday', 'cat_gr_weekday',\n",
    "    \n",
    "    'revenue_curr', 'square_curr', 'drinks_curr', 'burgers_curr', 'snack_curr', 'offer_curr', \n",
    "    'chicken_curr', 'bucket_curr',  \n",
    "]"
   ]
  },
  {
   "cell_type": "code",
   "execution_count": null,
   "id": "2f8af17f",
   "metadata": {},
   "outputs": [],
   "source": [
    "df_test_smpl = df_test_new.sort_values(by='order_id', ascending=False).drop_duplicates(subset=['customer_id'], keep='first')"
   ]
  },
  {
   "cell_type": "code",
   "execution_count": null,
   "id": "e18e5f21",
   "metadata": {},
   "outputs": [],
   "source": [
    "df_test_smpl.shape"
   ]
  },
  {
   "cell_type": "code",
   "execution_count": null,
   "id": "61c01044",
   "metadata": {},
   "outputs": [],
   "source": [
    "df_test_smpl['mc1_dish'] = df_test_smpl['mc1_dish'].fillna('-1')\n",
    "df_test_smpl['mc2_dish'] = df_test_smpl['mc2_dish'].fillna('-1')"
   ]
  },
  {
   "cell_type": "code",
   "execution_count": null,
   "id": "06025dc6",
   "metadata": {},
   "outputs": [],
   "source": []
  },
  {
   "cell_type": "code",
   "execution_count": null,
   "id": "6ad11520",
   "metadata": {},
   "outputs": [],
   "source": [
    "df_test_smpl['buy_post'] = cls.predict_proba(df_test_smpl[cols])[:, 1]\n",
    "\n",
    "df_test_smpl['buy_post'] = df_test_smpl['buy_post'].apply(lambda x: 1 if x > 0.5 else 0) \n",
    "df_test_smpl['buy_post'].value_counts()"
   ]
  },
  {
   "cell_type": "code",
   "execution_count": null,
   "id": "ea4791fb",
   "metadata": {},
   "outputs": [],
   "source": [
    "df_out = pd.read_csv('submission.csv', sep=';')[['customer_id', 'date_diff_post']].merge(\n",
    "    df_test_smpl[['customer_id', 'buy_post']]\n",
    ")"
   ]
  },
  {
   "cell_type": "code",
   "execution_count": null,
   "id": "7b0dd6f2",
   "metadata": {},
   "outputs": [],
   "source": [
    "df_out.to_csv('submission_ex12.csv', sep=';', header=True, index=False)"
   ]
  },
  {
   "cell_type": "code",
   "execution_count": null,
   "id": "6269b35a",
   "metadata": {},
   "outputs": [],
   "source": [
    "import pickle\n",
    "with open(f'models/cls_064_top_{len(cols)}_feats.pkl', 'wb') as f:\n",
    "    pickle.dump(cls, f)"
   ]
  }
 ],
 "metadata": {
  "kernelspec": {
   "display_name": "Python 3 (ipykernel)",
   "language": "python",
   "name": "python3"
  },
  "language_info": {
   "codemirror_mode": {
    "name": "ipython",
    "version": 3
   },
   "file_extension": ".py",
   "mimetype": "text/x-python",
   "name": "python",
   "nbconvert_exporter": "python",
   "pygments_lexer": "ipython3",
   "version": "3.7.9"
  }
 },
 "nbformat": 4,
 "nbformat_minor": 5
}
